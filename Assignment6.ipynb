{
  "nbformat": 4,
  "nbformat_minor": 0,
  "metadata": {
    "colab": {
      "provenance": []
    },
    "kernelspec": {
      "name": "python3",
      "display_name": "Python 3"
    },
    "language_info": {
      "name": "python"
    }
  },
  "cells": [
    {
      "cell_type": "markdown",
      "source": [
        "1. In a study, the researchers wish to see the percentage of registered voters in a population who were in favor of candidate A in an election was more than 40%. A random sample of registered voters in this population was taken. Among 800 people participated in the survey, 380 of them voted for candidate A. a) Report the 95% confidence interval for estimating the percentage of people in the population who would vote for candidate A. Please use point estimate ± margin of error format to report the confidence interval."
      ],
      "metadata": {
        "id": "0oBcHhjUPAoi"
      }
    },
    {
      "cell_type": "code",
      "source": [
        "import pandas as pd\n",
        "import numpy as np\n",
        "import matplotlib.pyplot as plt\n",
        "import seaborn as sns\n",
        "from scipy.stats import norm, shapiro, ttest_1samp, probplot"
      ],
      "metadata": {
        "id": "wQt70B8dPJvK"
      },
      "execution_count": 1,
      "outputs": []
    },
    {
      "cell_type": "code",
      "source": [
        "p_hat=380/800\n",
        "p_hat_1=1-p_hat\n",
        "Z = 1.96\n",
        "marginOfError=Z*(p_hat*p_hat_1/800)**0.5\n",
        "print(f\"95% confidence interval for estimating the percentage of people in the population who would vote for candidate A in the range: \\n{p_hat-marginOfError:.4f} to {p_hat+marginOfError:.4f}.\")"
      ],
      "metadata": {
        "colab": {
          "base_uri": "https://localhost:8080/"
        },
        "id": "61yzIzhiXZ3H",
        "outputId": "deeafb2c-f9d0-4e95-8852-251b3aabad81"
      },
      "execution_count": 2,
      "outputs": [
        {
          "output_type": "stream",
          "name": "stdout",
          "text": [
            "95% confidence interval for estimating the percentage of people in the population who would vote for candidate A in the range: \n",
            "0.4404 to 0.5096.\n"
          ]
        }
      ]
    },
    {
      "cell_type": "markdown",
      "source": [
        "b) If the researchers would like to estimate a sample size for the study, and there is no prior knowledge of the proportion, how large a sample would be needed for constructing a confidence interval for estimating the percentage of people will be in favor of candidate A with a 95 confidence level and a 2% margin of error?"
      ],
      "metadata": {
        "id": "OX5gNbaiXolV"
      }
    },
    {
      "cell_type": "code",
      "source": [
        "marginError=0.02\n",
        "confidence_level=0.95\n",
        "print(\"formula: marginOfError= Z*np.sqrt(p_hat*(p_hat-1)/sample_size)\")\n",
        "p = 0.5\n",
        "sample_size= (Z/marginError)**2*p*(1-p)\n",
        "print(f\"sample would be needed for constructing a confidence interval for estimating the percentage of people will be in favor of candidate A \\\n",
        "with a 95 confidence level and a 2% margin of error: {int(sample_size)}\")"
      ],
      "metadata": {
        "colab": {
          "base_uri": "https://localhost:8080/"
        },
        "id": "_OsePsjnXnPo",
        "outputId": "c8a1337c-cc17-40b2-9b7c-b68813f605cb"
      },
      "execution_count": 3,
      "outputs": [
        {
          "output_type": "stream",
          "name": "stdout",
          "text": [
            "formula: marginOfError= Z*np.sqrt(p_hat*(p_hat-1)/sample_size)\n",
            "sample would be needed for constructing a confidence interval for estimating the percentage of people will be in favor of candidate A with a 95 confidence level and a 2% margin of error: 2401\n"
          ]
        }
      ]
    },
    {
      "cell_type": "markdown",
      "source": [
        "Question:2 a) Perform a statistical hypothesis test using 5% as the level of significance to see if the average arm span for the 11th graders in Ohio is more than 160 cm. You must state null and alternative hypothesis, check normality assumption, report test statistic value, report p-value, and draw a proper conclusion. (mean=200) Null hypothesis: The average arm span for the students is 160cm Alternative hypothesis: The average arm span for students is more than 160 cm Report p-value from the normality test, make a quantile-comparison plot, and draw a conclusion."
      ],
      "metadata": {
        "id": "vVkmlHl-XynS"
      }
    },
    {
      "cell_type": "code",
      "source": [
        "Null_hypothesis=\"The average arm span for the students is 160cm.\"\n",
        "Alternative_hypothesis=\"The average arm span for students is more than 160 cm\"\n",
        "\n",
        "arm_span_data = [200] * 30\n",
        "\n",
        "# Hypothesis Test\n",
        "mu = 160\n",
        "alpha = 0.05\n",
        "\n",
        "# Normality Test\n",
        "stat, p_value = shapiro(arm_span_data)\n",
        "print(f\"Shapiro-Wilk Test: Test Statistic = {stat:.4f}, p-value = {p_value:.4f}\")\n",
        "if p_value > alpha:\n",
        "    print(\"The data is normally distributed.\")\n",
        "else:\n",
        "  print(\"The data is not normally distributed.\")\n",
        "\n",
        "# Perform one-sample t-test\n",
        "sample_mean = np.mean(arm_span_data)\n",
        "sample_std = np.std(arm_span_data, ddof = 1)\n",
        "n = len(arm_span_data)\n",
        "z_stat = (sample_mean - mu) / (sample_std / np.sqrt(n))\n",
        "p_value_test = 1 - norm.cdf(z_stat)\n",
        "\n",
        "print(f\"Z-Statistic: {z_stat:.4f}, p-value: {p_value_test:.4f}\")\n",
        "if p_value_test < alpha:\n",
        "    print(\"Reject the null hypothesis: The avg arm span is more than 160 cm.\")\n",
        "else:\n",
        "  print(\"Fail to reject the null hypothesis: No evidence that the average arm span is more than 160 cm.\")"
      ],
      "metadata": {
        "colab": {
          "base_uri": "https://localhost:8080/"
        },
        "id": "5TQfX8QQXx6I",
        "outputId": "6f8b32f9-ae07-4260-8066-03a3a7200933"
      },
      "execution_count": 4,
      "outputs": [
        {
          "output_type": "stream",
          "name": "stdout",
          "text": [
            "Shapiro-Wilk Test: Test Statistic = 1.0000, p-value = 1.0000\n",
            "The data is normally distributed.\n",
            "Z-Statistic: inf, p-value: 0.0000\n",
            "Reject the null hypothesis: The avg arm span is more than 160 cm.\n"
          ]
        },
        {
          "output_type": "stream",
          "name": "stderr",
          "text": [
            "/usr/local/lib/python3.10/dist-packages/scipy/stats/_axis_nan_policy.py:531: UserWarning: scipy.stats.shapiro: Input data has range zero. The results may not be accurate.\n",
            "  res = hypotest_fun_out(*samples, **kwds)\n",
            "<ipython-input-4-815f94e96e9d>:22: RuntimeWarning: divide by zero encountered in scalar divide\n",
            "  z_stat = (sample_mean - mu) / (sample_std / np.sqrt(n))\n"
          ]
        }
      ]
    },
    {
      "cell_type": "markdown",
      "source": [
        "b) Find the 95% confidence interval for estimating the average arm span for the sampled population."
      ],
      "metadata": {
        "id": "AH6BCTkNYof-"
      }
    },
    {
      "cell_type": "code",
      "source": [
        "# Confidence interval\n",
        "Z = 1.96        # Z-value for 95% confidence level\n",
        "margin_of_error = Z * (sample_std / np.sqrt(n))\n",
        "lower_bound = sample_mean - margin_of_error\n",
        "upper_bound = sample_mean + margin_of_error\n",
        "\n",
        "print(f\"95% Confidence For Mean: ({lower_bound:.2f}, {upper_bound:.2f})\")\n",
        "\n",
        "# Q-Q Plot\n",
        "probplot(arm_span_data, dist = 'norm', plot = plt)\n",
        "plt.title(\"Q-Q Plot \")\n",
        "plt.show()"
      ],
      "metadata": {
        "colab": {
          "base_uri": "https://localhost:8080/",
          "height": 489
        },
        "id": "und8mWwLYoLc",
        "outputId": "e62e4928-77d0-445b-8d6d-5b17b87c0be5"
      },
      "execution_count": 5,
      "outputs": [
        {
          "output_type": "stream",
          "name": "stdout",
          "text": [
            "95% Confidence For Mean: (200.00, 200.00)\n"
          ]
        },
        {
          "output_type": "display_data",
          "data": {
            "text/plain": [
              "<Figure size 640x480 with 1 Axes>"
            ],
            "image/png": "[encoded data removed]"
          },
          "metadata": {}
        }
      ]
    }
  ]
}